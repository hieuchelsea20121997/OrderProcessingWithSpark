{
 "cells": [
  {
   "cell_type": "code",
   "execution_count": 7,
   "id": "9d8e0769-738d-4692-8210-308b34621f14",
   "metadata": {},
   "outputs": [],
   "source": [
    "from pyspark.sql import SparkSession\n",
    "import getpass\n",
    "username = getpass.getuser()\n",
    "spark = SparkSession. \\\n",
    "builder. \\\n",
    "config('spark.ui.port', '0'). \\\n",
    "config(\"spark.sql.warehouse.dir\", f\"/user/{username}/warehouse\"). \\\n",
    "getOrCreate()\n",
    "# enableHiveSupport()\n",
    "# master('yarn')\n"
   ]
  },
  {
   "cell_type": "code",
   "execution_count": 14,
   "id": "34b2c241-ef36-4128-8fe6-f3c51aa3163d",
   "metadata": {},
   "outputs": [],
   "source": [
    "file_path = 'data/orders_wh.csv'\n",
    "orders_rdd = spark.sparkContext.textFile(file_path)"
   ]
  },
  {
   "cell_type": "code",
   "execution_count": 15,
   "id": "2cb7d7a8-449c-4786-94d5-36f48ff47f60",
   "metadata": {},
   "outputs": [
    {
     "data": {
      "text/plain": [
       "68884"
      ]
     },
     "execution_count": 15,
     "metadata": {},
     "output_type": "execute_result"
    }
   ],
   "source": [
    "orders_rdd.count()\n",
    "\n"
   ]
  },
  {
   "cell_type": "code",
   "execution_count": 16,
   "id": "8cd54c20-346e-4a8f-a584-c0bcb253bd2a",
   "metadata": {},
   "outputs": [
    {
     "data": {
      "text/plain": [
       "['order_id,order_date,customer_id,order_status',\n",
       " '1,2013-07-25 00:00:00.0,11599,CLOSED',\n",
       " '2,2013-07-25 00:00:00.0,256,PENDING_PAYMENT',\n",
       " '3,2013-07-25 00:00:00.0,12111,COMPLETE',\n",
       " '4,2013-07-25 00:00:00.0,8827,CLOSED',\n",
       " '5,2013-07-25 00:00:00.0,11318,COMPLETE',\n",
       " '6,2013-07-25 00:00:00.0,7130,COMPLETE',\n",
       " '7,2013-07-25 00:00:00.0,4530,COMPLETE',\n",
       " '8,2013-07-25 00:00:00.0,2911,PROCESSING',\n",
       " '9,2013-07-25 00:00:00.0,5657,PENDING_PAYMENT']"
      ]
     },
     "execution_count": 16,
     "metadata": {},
     "output_type": "execute_result"
    }
   ],
   "source": [
    "orders_rdd.take(10)"
   ]
  },
  {
   "cell_type": "code",
   "execution_count": 17,
   "id": "c674c569-5650-4485-8731-15ea5cc243b8",
   "metadata": {},
   "outputs": [
    {
     "data": {
      "text/plain": [
       "['order_id,order_date,customer_id,order_status',\n",
       " '1,2013-07-25 00:00:00.0,11599,CLOSED',\n",
       " '2,2013-07-25 00:00:00.0,256,PENDING_PAYMENT',\n",
       " '3,2013-07-25 00:00:00.0,12111,COMPLETE',\n",
       " '4,2013-07-25 00:00:00.0,8827,CLOSED',\n",
       " '5,2013-07-25 00:00:00.0,11318,COMPLETE',\n",
       " '6,2013-07-25 00:00:00.0,7130,COMPLETE',\n",
       " '7,2013-07-25 00:00:00.0,4530,COMPLETE',\n",
       " '8,2013-07-25 00:00:00.0,2911,PROCESSING',\n",
       " '9,2013-07-25 00:00:00.0,5657,PENDING_PAYMENT',\n",
       " '10,2013-07-25 00:00:00.0,5648,PENDING_PAYMENT',\n",
       " '11,2013-07-25 00:00:00.0,918,PAYMENT_REVIEW',\n",
       " '12,2013-07-25 00:00:00.0,1837,CLOSED',\n",
       " '13,2013-07-25 00:00:00.0,9149,PENDING_PAYMENT',\n",
       " '14,2013-07-25 00:00:00.0,9842,PROCESSING',\n",
       " '15,2013-07-25 00:00:00.0,2568,COMPLETE',\n",
       " '16,2013-07-25 00:00:00.0,7276,PENDING_PAYMENT',\n",
       " '17,2013-07-25 00:00:00.0,2667,COMPLETE',\n",
       " '18,2013-07-25 00:00:00.0,1205,CLOSED',\n",
       " '19,2013-07-25 00:00:00.0,9488,PENDING_PAYMENT']"
      ]
     },
     "execution_count": 17,
     "metadata": {},
     "output_type": "execute_result"
    }
   ],
   "source": [
    "orders_rdd.take(20)"
   ]
  },
  {
   "cell_type": "code",
   "execution_count": 18,
   "id": "161322b2-230a-4818-84e0-760c2a69d111",
   "metadata": {},
   "outputs": [],
   "source": [
    "# Dem tong so order tung status\n"
   ]
  },
  {
   "cell_type": "code",
   "execution_count": 26,
   "id": "e233fccf-1bcc-4190-a821-ea88b2a82750",
   "metadata": {},
   "outputs": [],
   "source": [
    "mapped_rdd = orders_rdd.map(lambda x: (x.split(\",\")[3],1))"
   ]
  },
  {
   "cell_type": "code",
   "execution_count": 27,
   "id": "bbffe573-2db4-4c2f-8d3b-6c28f2e6046f",
   "metadata": {},
   "outputs": [
    {
     "data": {
      "text/plain": [
       "[('order_status', 1),\n",
       " ('CLOSED', 1),\n",
       " ('PENDING_PAYMENT', 1),\n",
       " ('COMPLETE', 1),\n",
       " ('CLOSED', 1),\n",
       " ('COMPLETE', 1),\n",
       " ('COMPLETE', 1),\n",
       " ('COMPLETE', 1),\n",
       " ('PROCESSING', 1),\n",
       " ('PENDING_PAYMENT', 1)]"
      ]
     },
     "execution_count": 27,
     "metadata": {},
     "output_type": "execute_result"
    }
   ],
   "source": [
    "mapped_rdd.take(10)"
   ]
  },
  {
   "cell_type": "code",
   "execution_count": 30,
   "id": "db887947-163d-4d57-95fa-066db5382e7d",
   "metadata": {},
   "outputs": [],
   "source": [
    "reduced_rdd = mapped_rdd.reduceByKey(lambda x,y : x+y)"
   ]
  },
  {
   "cell_type": "code",
   "execution_count": 32,
   "id": "660c1a85-b964-4f41-a7c0-a84d63d09f96",
   "metadata": {},
   "outputs": [
    {
     "data": {
      "text/plain": [
       "[('CLOSED', 7556),\n",
       " ('COMPLETE', 22899),\n",
       " ('PROCESSING', 8275),\n",
       " ('PAYMENT_REVIEW', 729),\n",
       " ('CANCELED', 1428),\n",
       " ('SUSPECTED_FRAUD', 1558),\n",
       " ('order_status', 1),\n",
       " ('PENDING_PAYMENT', 15030),\n",
       " ('PENDING', 7610),\n",
       " ('ON_HOLD', 3798)]"
      ]
     },
     "execution_count": 32,
     "metadata": {},
     "output_type": "execute_result"
    }
   ],
   "source": [
    "reduced_rdd.collect()"
   ]
  },
  {
   "cell_type": "code",
   "execution_count": 33,
   "id": "3541f4e8-d0ec-4797-a237-8905424ca7c4",
   "metadata": {},
   "outputs": [],
   "source": [
    "sorted_rdd = reduced_rdd.sortBy(lambda x : x[1])"
   ]
  },
  {
   "cell_type": "code",
   "execution_count": 34,
   "id": "14a203ec-770c-4295-96bc-9aeef487e15c",
   "metadata": {},
   "outputs": [
    {
     "data": {
      "text/plain": [
       "[('order_status', 1),\n",
       " ('PAYMENT_REVIEW', 729),\n",
       " ('CANCELED', 1428),\n",
       " ('SUSPECTED_FRAUD', 1558),\n",
       " ('ON_HOLD', 3798),\n",
       " ('CLOSED', 7556),\n",
       " ('PENDING', 7610),\n",
       " ('PROCESSING', 8275),\n",
       " ('PENDING_PAYMENT', 15030),\n",
       " ('COMPLETE', 22899)]"
      ]
     },
     "execution_count": 34,
     "metadata": {},
     "output_type": "execute_result"
    }
   ],
   "source": [
    "sorted_rdd.collect()"
   ]
  },
  {
   "cell_type": "code",
   "execution_count": 35,
   "id": "9662db98-ec25-497f-b0bd-0c8299652ef6",
   "metadata": {},
   "outputs": [],
   "source": [
    "sorted_rdd = reduced_rdd.sortBy(lambda x : x[1], False)"
   ]
  },
  {
   "cell_type": "code",
   "execution_count": 36,
   "id": "36cea23c-f9e1-44fd-9112-45d43d8155c4",
   "metadata": {},
   "outputs": [
    {
     "data": {
      "text/plain": [
       "[('COMPLETE', 22899),\n",
       " ('PENDING_PAYMENT', 15030),\n",
       " ('PROCESSING', 8275),\n",
       " ('PENDING', 7610),\n",
       " ('CLOSED', 7556),\n",
       " ('ON_HOLD', 3798),\n",
       " ('SUSPECTED_FRAUD', 1558),\n",
       " ('CANCELED', 1428),\n",
       " ('PAYMENT_REVIEW', 729),\n",
       " ('order_status', 1)]"
      ]
     },
     "execution_count": 36,
     "metadata": {},
     "output_type": "execute_result"
    }
   ],
   "source": [
    "sorted_rdd.collect()"
   ]
  },
  {
   "cell_type": "code",
   "execution_count": 43,
   "id": "471c17dd-c16a-4476-a954-215e5523e130",
   "metadata": {},
   "outputs": [],
   "source": [
    "cust_mapped_rdd = orders_rdd.map(lambda x: (x.split(\",\")[2],1))"
   ]
  },
  {
   "cell_type": "code",
   "execution_count": 44,
   "id": "a7c142f7-c4a1-4805-8d60-5cf8394ebfa9",
   "metadata": {},
   "outputs": [
    {
     "data": {
      "text/plain": [
       "[('customer_id', 1),\n",
       " ('11599', 1),\n",
       " ('256', 1),\n",
       " ('12111', 1),\n",
       " ('8827', 1),\n",
       " ('11318', 1),\n",
       " ('7130', 1),\n",
       " ('4530', 1),\n",
       " ('2911', 1),\n",
       " ('5657', 1)]"
      ]
     },
     "execution_count": 44,
     "metadata": {},
     "output_type": "execute_result"
    }
   ],
   "source": [
    "cust_mapped_rdd.take(10)"
   ]
  },
  {
   "cell_type": "code",
   "execution_count": 45,
   "id": "227f9adb-cf14-4141-a48d-ac9bea46dcb1",
   "metadata": {},
   "outputs": [],
   "source": [
    "cust_mapped_rdd = cust_mapped_rdd.reduceByKey(lambda x,y : x+y)"
   ]
  },
  {
   "cell_type": "code",
   "execution_count": 46,
   "id": "f0f8d140-bc7b-4de0-8083-5cb198cba7a3",
   "metadata": {},
   "outputs": [
    {
     "data": {
      "text/plain": [
       "[('customer_id', 1), ('11599', 5), ('256', 10), ('12111', 6), ('8827', 6)]"
      ]
     },
     "execution_count": 46,
     "metadata": {},
     "output_type": "execute_result"
    }
   ],
   "source": [
    "cust_mapped_rdd.take(5)"
   ]
  },
  {
   "cell_type": "code",
   "execution_count": 51,
   "id": "f7749de4-053f-476c-8919-7c10c1682683",
   "metadata": {},
   "outputs": [],
   "source": [
    "cust_reduced_rdd = cust_mapped_rdd.sortBy(lambda x: x[1], False)"
   ]
  },
  {
   "cell_type": "code",
   "execution_count": 52,
   "id": "ae696cac-4b1b-4f55-8e5f-8c35d5fd4de5",
   "metadata": {},
   "outputs": [
    {
     "data": {
      "text/plain": [
       "[('6316', 16),\n",
       " ('12431', 16),\n",
       " ('5897', 16),\n",
       " ('569', 16),\n",
       " ('221', 15),\n",
       " ('4320', 15),\n",
       " ('5283', 15),\n",
       " ('12284', 15),\n",
       " ('5654', 15),\n",
       " ('5624', 15)]"
      ]
     },
     "execution_count": 52,
     "metadata": {},
     "output_type": "execute_result"
    }
   ],
   "source": [
    "cust_reduced_rdd.take(10)"
   ]
  },
  {
   "cell_type": "code",
   "execution_count": 53,
   "id": "100ffff4-d67a-4dc0-b45a-0f8d217a59e6",
   "metadata": {},
   "outputs": [
    {
     "data": {
      "text/plain": [
       "68884"
      ]
     },
     "execution_count": 53,
     "metadata": {},
     "output_type": "execute_result"
    }
   ],
   "source": [
    "# Tong so luong khach hang hien tai\n",
    "orders_rdd.count()"
   ]
  },
  {
   "cell_type": "code",
   "execution_count": 54,
   "id": "84637086-77f9-46b1-bc7e-b20dbfdfda89",
   "metadata": {},
   "outputs": [],
   "source": [
    "cuss_rdd = orders_rdd.map(lambda x: x.split(\",\")[2])"
   ]
  },
  {
   "cell_type": "code",
   "execution_count": 55,
   "id": "7d09ca5b-59d9-47bc-9471-a1ce085cb3b8",
   "metadata": {},
   "outputs": [
    {
     "data": {
      "text/plain": [
       "68884"
      ]
     },
     "execution_count": 55,
     "metadata": {},
     "output_type": "execute_result"
    }
   ],
   "source": [
    "cuss_rdd.count()"
   ]
  },
  {
   "cell_type": "code",
   "execution_count": 56,
   "id": "eb9fbf43-2888-4624-b771-31f511920f6c",
   "metadata": {},
   "outputs": [],
   "source": [
    "total_cust_rdd =cuss_rdd.distinct()"
   ]
  },
  {
   "cell_type": "code",
   "execution_count": 57,
   "id": "0521da89-b551-461b-a3b8-72ec39c8e7ec",
   "metadata": {},
   "outputs": [
    {
     "data": {
      "text/plain": [
       "12406"
      ]
     },
     "execution_count": 57,
     "metadata": {},
     "output_type": "execute_result"
    }
   ],
   "source": [
    "total_cust_rdd.count()"
   ]
  },
  {
   "cell_type": "code",
   "execution_count": 58,
   "id": "8a2896ed-b0dd-47f3-a6e8-acd2ee686e69",
   "metadata": {},
   "outputs": [],
   "source": [
    "# Khach hang co so luong order \"CLOSED\" nhieu nhat\n",
    "filtered_rdd = orders_rdd.filter(lambda x: x.split(\",\")[3] == 'CLOSED')"
   ]
  },
  {
   "cell_type": "code",
   "execution_count": 59,
   "id": "e2637789-7705-46fa-b3c4-ccd4195b2059",
   "metadata": {},
   "outputs": [
    {
     "data": {
      "text/plain": [
       "['1,2013-07-25 00:00:00.0,11599,CLOSED',\n",
       " '4,2013-07-25 00:00:00.0,8827,CLOSED',\n",
       " '12,2013-07-25 00:00:00.0,1837,CLOSED',\n",
       " '18,2013-07-25 00:00:00.0,1205,CLOSED',\n",
       " '24,2013-07-25 00:00:00.0,11441,CLOSED']"
      ]
     },
     "execution_count": 59,
     "metadata": {},
     "output_type": "execute_result"
    }
   ],
   "source": [
    "filtered_rdd .take(5)"
   ]
  },
  {
   "cell_type": "code",
   "execution_count": 60,
   "id": "c8a1bff3-e2d0-43e3-a2bd-d590b42f79e2",
   "metadata": {},
   "outputs": [],
   "source": [
    "cust_closed = filtered_rdd.map(lambda x: (x.split(\",\")[2],1))"
   ]
  },
  {
   "cell_type": "code",
   "execution_count": 61,
   "id": "89dafaa3-5896-4579-bf7f-c1c59ba90450",
   "metadata": {},
   "outputs": [
    {
     "data": {
      "text/plain": [
       "[('11599', 1), ('8827', 1), ('1837', 1), ('1205', 1), ('11441', 1)]"
      ]
     },
     "execution_count": 61,
     "metadata": {},
     "output_type": "execute_result"
    }
   ],
   "source": [
    "cust_closed.take(5)"
   ]
  },
  {
   "cell_type": "code",
   "execution_count": 62,
   "id": "7b7f4dd3-9f2c-44d1-a311-ca4f12bb095d",
   "metadata": {},
   "outputs": [],
   "source": [
    "cust_closed_reduced = cust_closed.reduceByKey(lambda x,y : x+y)"
   ]
  },
  {
   "cell_type": "code",
   "execution_count": 63,
   "id": "79ce5f70-6e38-45aa-b977-90cdbc15557a",
   "metadata": {},
   "outputs": [
    {
     "data": {
      "text/plain": [
       "[('11599', 1), ('8827', 1), ('9503', 1), ('7073', 1), ('9131', 1)]"
      ]
     },
     "execution_count": 63,
     "metadata": {},
     "output_type": "execute_result"
    }
   ],
   "source": [
    "cust_closed_reduced.take(5)"
   ]
  },
  {
   "cell_type": "code",
   "execution_count": 64,
   "id": "2401fc7a-90da-49a9-a64a-5638980c4ebc",
   "metadata": {},
   "outputs": [],
   "source": [
    "sorted_cust_closed = cust_closed_reduced.sortBy(lambda x : x[1], False)"
   ]
  },
  {
   "cell_type": "code",
   "execution_count": 65,
   "id": "b9235fd6-ac6f-418e-9657-1fc142243cd5",
   "metadata": {},
   "outputs": [
    {
     "data": {
      "text/plain": [
       "[('1833', 6)]"
      ]
     },
     "execution_count": 65,
     "metadata": {},
     "output_type": "execute_result"
    }
   ],
   "source": [
    "sorted_cust_closed.take(1)"
   ]
  },
  {
   "cell_type": "code",
   "execution_count": null,
   "id": "d8d4364c-e81c-441f-b7cb-301d849b1337",
   "metadata": {},
   "outputs": [],
   "source": []
  }
 ],
 "metadata": {
  "kernelspec": {
   "display_name": "Python 3 (ipykernel)",
   "language": "python",
   "name": "python3"
  },
  "language_info": {
   "codemirror_mode": {
    "name": "ipython",
    "version": 3
   },
   "file_extension": ".py",
   "mimetype": "text/x-python",
   "name": "python",
   "nbconvert_exporter": "python",
   "pygments_lexer": "ipython3",
   "version": "3.11.7"
  }
 },
 "nbformat": 4,
 "nbformat_minor": 5
}
